{
 "cells": [
  {
   "cell_type": "code",
   "execution_count": 10,
   "id": "initial_id",
   "metadata": {
    "collapsed": true,
    "ExecuteTime": {
     "end_time": "2024-04-18T17:58:50.901094Z",
     "start_time": "2024-04-18T17:58:50.890044Z"
    }
   },
   "outputs": [],
   "source": [
    "import random\n",
    "\n",
    "import pandas as pd\n",
    "import torch\n",
    "from matplotlib import pyplot as plt\n",
    "from torch.nn import *\n",
    "from torch.optim import *\n",
    "\n",
    "from model import LSTMModel"
   ]
  },
  {
   "cell_type": "markdown",
   "source": [
    "Read Preprocessed Dataset "
   ],
   "metadata": {
    "collapsed": false
   },
   "id": "45275d1b0ec38127"
  },
  {
   "cell_type": "code",
   "outputs": [
    {
     "name": "stderr",
     "output_type": "stream",
     "text": [
      "C:\\Users\\china\\AppData\\Local\\Temp\\ipykernel_11452\\2682900998.py:8: SettingWithCopyWarning: \n",
      "A value is trying to be set on a copy of a slice from a DataFrame.\n",
      "Try using .loc[row_indexer,col_indexer] = value instead\n",
      "\n",
      "See the caveats in the documentation: https://pandas.pydata.org/pandas-docs/stable/user_guide/indexing.html#returning-a-view-versus-a-copy\n",
      "  moods['ID'] = (moods['ID'] - 14) * 100\n",
      "C:\\Users\\china\\AppData\\Local\\Temp\\ipykernel_11452\\2682900998.py:9: SettingWithCopyWarning: \n",
      "A value is trying to be set on a copy of a slice from a DataFrame.\n",
      "Try using .loc[row_indexer,col_indexer] = value instead\n",
      "\n",
      "See the caveats in the documentation: https://pandas.pydata.org/pandas-docs/stable/user_guide/indexing.html#returning-a-view-versus-a-copy\n",
      "  moods['ID'] = moods['ID'].astype(int)\n",
      "C:\\Users\\china\\AppData\\Local\\Temp\\ipykernel_11452\\2682900998.py:10: SettingWithCopyWarning: \n",
      "A value is trying to be set on a copy of a slice from a DataFrame.\n",
      "Try using .loc[row_indexer,col_indexer] = value instead\n",
      "\n",
      "See the caveats in the documentation: https://pandas.pydata.org/pandas-docs/stable/user_guide/indexing.html#returning-a-view-versus-a-copy\n",
      "  moods['time'] = pd.to_datetime(moods['time'])\n",
      "C:\\Users\\china\\AppData\\Local\\Temp\\ipykernel_11452\\2682900998.py:15: SettingWithCopyWarning: \n",
      "A value is trying to be set on a copy of a slice from a DataFrame.\n",
      "Try using .loc[row_indexer,col_indexer] = value instead\n",
      "\n",
      "See the caveats in the documentation: https://pandas.pydata.org/pandas-docs/stable/user_guide/indexing.html#returning-a-view-versus-a-copy\n",
      "  moods['weekday'] = moods['time'].dt.weekday\n",
      "C:\\Users\\china\\AppData\\Local\\Temp\\ipykernel_11452\\2682900998.py:16: SettingWithCopyWarning: \n",
      "A value is trying to be set on a copy of a slice from a DataFrame.\n",
      "Try using .loc[row_indexer,col_indexer] = value instead\n",
      "\n",
      "See the caveats in the documentation: https://pandas.pydata.org/pandas-docs/stable/user_guide/indexing.html#returning-a-view-versus-a-copy\n",
      "  moods['time'] = (moods['time'] - specified_date).dt.days\n"
     ]
    }
   ],
   "source": [
    "# path = './data/knn_clean_data.csv'\n",
    "path = './data/final_data.csv'\n",
    "df = pd.read_csv(path)\n",
    "# select relevant features\n",
    "# moods = df[['mood', 'ID']]\n",
    "moods = df[['mood', 'ID', 'circumplex.valence', 'circumplex.arousal', 'time', 'activity', 'appCat.entertainment']]\n",
    "# process id and mood\n",
    "moods['ID'] = (moods['ID'] - 14) * 100\n",
    "moods['ID'] = moods['ID'].astype(int)\n",
    "moods['time'] = pd.to_datetime(moods['time'])\n",
    "# 指定日期\n",
    "specified_date = pd.to_datetime('2014-03-01')\n",
    "\n",
    "# 计算日期与指定日期之间的天数差\n",
    "moods['weekday'] = moods['time'].dt.weekday\n",
    "moods['time'] = (moods['time'] - specified_date).dt.days"
   ],
   "metadata": {
    "collapsed": false,
    "ExecuteTime": {
     "end_time": "2024-04-18T17:58:51.024436Z",
     "start_time": "2024-04-18T17:58:50.982667Z"
    }
   },
   "id": "ec8157948deb1084",
   "execution_count": 11
  },
  {
   "cell_type": "code",
   "outputs": [
    {
     "name": "stdout",
     "output_type": "stream",
     "text": [
      "dataset size: 498\n",
      "train set size: 349\n",
      "test set size: 149\n"
     ]
    }
   ],
   "source": [
    "# define hyper-parameters\n",
    "hidden_size = 64  # 隐藏层维度\n",
    "num_layers = 4  # LSTM层数\n",
    "output_size = 1  # 输出维度\n",
    "num_epochs = 300  # 迭代次数\n",
    "learning_rate = 1e-3  # 学习率\n",
    "max_grad_norm = 10.0\n",
    "\n",
    "seq_length = 32\n",
    "batch_size = 64\n",
    "step = 1\n",
    "# generate dataset\n",
    "ids = moods['ID'].unique()\n",
    "id_moods = []\n",
    "for uid in ids:\n",
    "    id_mood = moods[moods['ID'] == uid]\n",
    "    id_moods.append(id_mood)\n",
    "# remove data that is not continuous\n",
    "id_moods[0] = id_moods[0][2:]\n",
    "\n",
    "dataset = []\n",
    "for id_mood in id_moods:\n",
    "    id_dataset = [id_mood[i:i + seq_length + 1] for i in range(0, len(id_mood) - seq_length, step)]\n",
    "    id_dataset = [df.to_numpy() for df in id_dataset]\n",
    "    dataset += id_dataset\n",
    "\n",
    "print('dataset size:', len(dataset))\n",
    "# split it into train set and test set.\n",
    "random_indices = random.sample(range(len(dataset)), k=int(len(dataset) * 3 / 10))\n",
    "train_set = []\n",
    "test_set = []\n",
    "\n",
    "for i in range(len(dataset)):\n",
    "    if i in random_indices:\n",
    "        test_set.append(dataset[i])\n",
    "    else:\n",
    "        train_set.append(dataset[i])\n",
    "print('train set size:',len(train_set))\n",
    "print('test set size:', len(test_set))\n",
    "random.shuffle(train_set)\n",
    "random.shuffle(test_set)\n",
    "\n",
    "X_train = [element[:seq_length] for element in train_set]\n",
    "y_train = [element[seq_length:][0][:1] for element in train_set]\n",
    "X_test = [element[:seq_length] for element in test_set]\n",
    "y_test = [element[seq_length:][0][:1] for element in test_set]\n",
    "# convert them into Tensor\n",
    "X_train = torch.tensor(X_train, dtype=torch.float32)\n",
    "y_train = torch.tensor(y_train, dtype=torch.float32)\n",
    "X_test = torch.tensor(X_test, dtype=torch.float32)\n",
    "y_test = torch.tensor(y_test, dtype=torch.float32)"
   ],
   "metadata": {
    "collapsed": false,
    "ExecuteTime": {
     "end_time": "2024-04-18T17:58:51.162527Z",
     "start_time": "2024-04-18T17:58:51.027963Z"
    }
   },
   "id": "f997df342e0380fd",
   "execution_count": 12
  },
  {
   "cell_type": "code",
   "outputs": [
    {
     "name": "stdout",
     "output_type": "stream",
     "text": [
      "Epoch [10/300], Train Loss: 16.5098\n",
      "Test Loss: 14.9255\n",
      "Epoch [20/300], Train Loss: 1.4253\n",
      "Test Loss: 1.0364\n",
      "Epoch [30/300], Train Loss: 0.5385\n",
      "Test Loss: 0.4988\n",
      "Epoch [40/300], Train Loss: 0.5388\n",
      "Test Loss: 0.4988\n",
      "Epoch [50/300], Train Loss: 0.5390\n",
      "Test Loss: 0.4988\n",
      "Epoch [60/300], Train Loss: 0.5393\n",
      "Test Loss: 0.4989\n",
      "Epoch [70/300], Train Loss: 0.5396\n",
      "Test Loss: 0.4990\n",
      "Epoch [80/300], Train Loss: 0.5398\n",
      "Test Loss: 0.4991\n",
      "Epoch [90/300], Train Loss: 0.5400\n",
      "Test Loss: 0.4993\n",
      "Epoch [100/300], Train Loss: 0.5401\n",
      "Test Loss: 0.4994\n",
      "Epoch [110/300], Train Loss: 0.5401\n",
      "Test Loss: 0.4995\n",
      "Epoch [120/300], Train Loss: 0.5402\n",
      "Test Loss: 0.4995\n",
      "Epoch [130/300], Train Loss: 0.5402\n",
      "Test Loss: 0.4995\n",
      "Epoch [140/300], Train Loss: 0.5154\n",
      "Test Loss: 0.4970\n",
      "Epoch [150/300], Train Loss: 0.4703\n",
      "Test Loss: 0.4705\n",
      "Epoch [160/300], Train Loss: 0.4541\n",
      "Test Loss: 0.4688\n",
      "Epoch [170/300], Train Loss: 0.3916\n",
      "Test Loss: 0.4529\n",
      "Epoch [180/300], Train Loss: 0.3642\n",
      "Test Loss: 0.4217\n",
      "Epoch [190/300], Train Loss: 0.3011\n",
      "Test Loss: 0.4256\n",
      "Epoch [200/300], Train Loss: 0.2821\n",
      "Test Loss: 0.4258\n",
      "Epoch [210/300], Train Loss: 0.2512\n",
      "Test Loss: 0.4338\n",
      "Epoch [220/300], Train Loss: 0.2181\n",
      "Test Loss: 0.4352\n",
      "Epoch [230/300], Train Loss: 0.2085\n",
      "Test Loss: 0.4373\n",
      "Epoch [240/300], Train Loss: 0.2228\n",
      "Test Loss: 0.4262\n",
      "Epoch [250/300], Train Loss: 0.1651\n",
      "Test Loss: 0.4365\n",
      "Epoch [260/300], Train Loss: 0.2398\n",
      "Test Loss: 0.4521\n",
      "Epoch [270/300], Train Loss: 0.1583\n",
      "Test Loss: 0.6021\n",
      "Epoch [280/300], Train Loss: 0.1449\n",
      "Test Loss: 0.4471\n",
      "Epoch [290/300], Train Loss: 0.1262\n",
      "Test Loss: 0.4264\n",
      "Epoch [300/300], Train Loss: 0.1446\n",
      "Test Loss: 0.4192\n"
     ]
    }
   ],
   "source": [
    "# 定义参数\n",
    "input_size = X_train.shape[-1]  # 输入维度\n",
    "# 设置设备\n",
    "device = torch.device('cuda' if torch.cuda.is_available() else 'cpu')\n",
    "# 创建模型并将其移动到设备上\n",
    "model = LSTMModel(input_size, hidden_size, num_layers, output_size, classification=False).to(device)\n",
    "# 定义损失函数和优化器\n",
    "criterion = MSELoss()\n",
    "# optimizer = Adam(model.parameters(), lr=learning_rate, weight_decay=0.1)\n",
    "optimizer = RMSprop(model.parameters(), lr=learning_rate)\n",
    "\n",
    "loss_history = []\n",
    "test_loss_history = []\n",
    "train_acc_history = []\n",
    "\n",
    "# 训练模型\n",
    "for epoch in range(num_epochs):\n",
    "    total_loss = 0\n",
    "    total_sample = 0\n",
    "    for i in range(0, len(X_train), batch_size):\n",
    "        inputs = X_train[i:i + batch_size].to(device)\n",
    "        targets = y_train[i:i + batch_size].to(device)\n",
    "        inputs_size = len(inputs)\n",
    "        # 前向传播\n",
    "        outputs = model(inputs)\n",
    "        loss = criterion(outputs, targets)\n",
    "        total_loss += inputs_size * loss.item()\n",
    "        total_sample += inputs_size\n",
    "        # 反向传播和优化\n",
    "        optimizer.zero_grad()\n",
    "        loss.backward()\n",
    "        # 剪枝\n",
    "        torch.nn.utils.clip_grad_norm_(model.parameters(), max_norm=max_grad_norm)\n",
    "        optimizer.step()\n",
    "        \n",
    "    total_loss = total_loss / total_sample\n",
    "    loss_history.append(total_loss)\n",
    "    \n",
    "    \n",
    "    \n",
    "    if (epoch + 1) % 10 == 0:\n",
    "        print(f'Epoch [{epoch + 1}/{num_epochs}], Train Loss: {total_loss:.4f}')\n",
    "        # 模型评估\n",
    "        total_loss = 0\n",
    "        total_sample = 0\n",
    "        with torch.no_grad():\n",
    "            for i in range(0, len(X_test), batch_size):\n",
    "                inputs = X_test[i:i + batch_size].to(device)\n",
    "                targets = y_test[i:i + batch_size].to(device)\n",
    "                outputs = model(inputs)\n",
    "                loss = criterion(targets, outputs)\n",
    "            \n",
    "                # print('outputs:', outputs.transpose(0,1))\n",
    "                # print('labels:', targets.transpose(0,1))\n",
    "                \n",
    "                inputs_size = len(inputs)\n",
    "                total_loss += inputs_size * loss.item()\n",
    "                total_sample += inputs_size\n",
    "            avg_loss = total_loss / total_sample\n",
    "            print(f'Test Loss: { avg_loss:.4f}')\n",
    "            test_loss_history.append(avg_loss)\n"
   ],
   "metadata": {
    "collapsed": false,
    "ExecuteTime": {
     "end_time": "2024-04-18T18:01:07.964604Z",
     "start_time": "2024-04-18T17:59:10.189089Z"
    }
   },
   "id": "589ce292955c11a6",
   "execution_count": 14
  },
  {
   "cell_type": "code",
   "outputs": [
    {
     "data": {
      "text/plain": "<Figure size 1000x500 with 1 Axes>",
      "image/png": "[encoded data removed]"
     },
     "metadata": {},
     "output_type": "display_data"
    },
    {
     "data": {
      "text/plain": "<Figure size 1000x500 with 1 Axes>",
      "image/png": "[encoded data removed]"
     },
     "metadata": {},
     "output_type": "display_data"
    },
    {
     "name": "stdout",
     "output_type": "stream",
     "text": [
      "Final Epoch, train loss:0.14456130591431968 and test loss:0.4192183877797735.\n",
      "MAE: 0.4563983082771301 and MSE: 0.41921839118003845.\n"
     ]
    }
   ],
   "source": [
    "from torch.nn.functional import *\n",
    "\n",
    "# visualization\n",
    "plt.figure(figsize=(10, 5))\n",
    "plt.plot(loss_history, 'r', label='Train MSE')\n",
    "plt.title('Training Loss Diagram')\n",
    "plt.xlabel('Epochs')\n",
    "plt.ylabel('Value')\n",
    "plt.legend()\n",
    "plt.grid(True)\n",
    "plt.show()\n",
    "\n",
    "plt.figure(figsize=(10, 5))\n",
    "plt.plot(test_loss_history[:], 'b', label='Test MSE')\n",
    "plt.title('Test Loss Diagram')\n",
    "plt.xlabel('Epochs(10)')\n",
    "plt.ylabel('Value')\n",
    "plt.legend()\n",
    "plt.grid(True)\n",
    "plt.show()\n",
    "print(f'Final Epoch, train loss:{loss_history[-1]} and test loss:{test_loss_history[-1]}.')\n",
    "\n",
    "inputs = X_test\n",
    "targets = y_test\n",
    "with torch.no_grad():\n",
    "    outputs = model(inputs)\n",
    "    # loss = criterion(targets, outputs)\n",
    "    mse = mse_loss(targets, outputs)\n",
    "    mae = l1_loss(targets, outputs)\n",
    "    print(f'MAE: {mae} and MSE: {mse}.')"
   ],
   "metadata": {
    "collapsed": false,
    "ExecuteTime": {
     "end_time": "2024-04-18T18:09:26.223565Z",
     "start_time": "2024-04-18T18:09:25.465245Z"
    }
   },
   "id": "3d6829c7164a11f3",
   "execution_count": 21
  }
 ],
 "metadata": {
  "kernelspec": {
   "display_name": "Python 3",
   "language": "python",
   "name": "python3"
  },
  "language_info": {
   "codemirror_mode": {
    "name": "ipython",
    "version": 2
   },
   "file_extension": ".py",
   "mimetype": "text/x-python",
   "name": "python",
   "nbconvert_exporter": "python",
   "pygments_lexer": "ipython2",
   "version": "2.7.6"
  }
 },
 "nbformat": 4,
 "nbformat_minor": 5
}
